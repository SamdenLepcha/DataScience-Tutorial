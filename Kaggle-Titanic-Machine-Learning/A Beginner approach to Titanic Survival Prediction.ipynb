{
 "cells": [
  {
   "cell_type": "markdown",
   "metadata": {
    "_uuid": "078cf3e60c25148a97f33241df06d73267786ac7"
   },
   "source": [
    "<h1>Introduction</h1>\n",
    "\n",
    "This notebook is a very basic and simple approach to this beginner classification problem. This problem serves as an excellent starter for any new aspiring Data Scientists and is perfect for laying down the foundation to newcomers ML Journey. I myself am a new comer to Kaggle and sincerely hope to do justice in conveying the concept in an easy to understand Manner. Please feel free to leave any comments that will help me to further improve this kernel and supplement my knowledge.\n",
    "\n",
    "This notebook is divided into six major parts:\n",
    "<ol>\n",
    "    <li>Introduction</li>\n",
    "    <li>Competition Description</li>\n",
    "    <li>Data Description</li>\n",
    "    <li>Exploratory Data Analyis or EDA (in short)</li>\n",
    "    <li>Data Pre-Processing</li>\n",
    "    <li>Modeling</li>\n",
    "</ol>\n",
    "Following the famous data science mantra we will spending the majority of our time in EDA and preprocessing compared to Modeling in a 80:20 ratio."
   ]
  },
  {
   "cell_type": "markdown",
   "metadata": {
    "_uuid": "244e6e85d39fbb83b00600462772f88c5f526d2f"
   },
   "source": [
    "<h1>Competition Description</h1>\n",
    "\n",
    "The sinking of the RMS Titanic is one of the most infamous shipwrecks in history.  On April 15, 1912, during her maiden voyage, the Titanic sank after colliding with an iceberg, killing 1502 out of 2224 passengers and crew. This sensational tragedy shocked the international community and led to better safety regulations for ships.\n",
    "\n",
    "One of the reasons that the shipwreck led to such loss of life was that there were not enough lifeboats for the passengers and crew. Although there was some element of luck involved in surviving the sinking, some groups of people were more likely to survive than others, such as women, children, and the upper-class.\n",
    "\n",
    "In this challenge, we ask you to complete the analysis of what sorts of people were likely to survive. In particular, we ask you to apply the tools of machine learning to predict which passengers survived the tragedy."
   ]
  },
  {
   "cell_type": "markdown",
   "metadata": {
    "_uuid": "a317bbc42e7030a501391756274254406d1f1da5"
   },
   "source": [
    "<h1>Data Description</h1>\n",
    "\n",
    "<h3>Overview</h3>\n",
    "\n",
    "The data has been split into two groups:\n",
    "<ul>\n",
    "    <li>training set (train.csv)</li>\n",
    "    <li>test set (test.csv)</li>\n",
    "</ul>\n",
    "\n",
    "The training set should be used to build your machine learning models. For the training set, we provide the outcome (also known as the “ground truth”) for each passenger. Your model will be based on “features” like passengers’ gender and class. You can also use feature engineering to create new features.\n",
    "\n",
    "The test set should be used to see how well your model performs on unseen data. For the test set, we do not provide the ground truth for each passenger. It is your job to predict these outcomes. For each passenger in the test set, use the model you trained to predict whether or not they survived the sinking of the Titanic.\n",
    "\n",
    "We also include gender_submission.csv, a set of predictions that assume all and only female passengers survive, as an example of what a submission file should look like."
   ]
  },
  {
   "cell_type": "markdown",
   "metadata": {
    "_uuid": "cd694a955f1b514a6c054e89dd9a65390573cfff"
   },
   "source": [
    "# Importing the Libraries"
   ]
  },
  {
   "cell_type": "markdown",
   "metadata": {
    "_uuid": "b23f7f696a2d8a1256150917e8be2879091326a3"
   },
   "source": [
    "This is where the actual fun begins. We start off by importing all the libraries that we will need later on. We will be using Numpy and pandas for data analysis and matplotlib (Matlab for python), seaborn for data visualisation."
   ]
  },
  {
   "cell_type": "code",
   "execution_count": null,
   "metadata": {
    "_uuid": "0958c3b4fdb4c0f2b8eae92005d4932981169fa2"
   },
   "outputs": [],
   "source": [
    "import os\n",
    "print(os.listdir(\"../input\"))"
   ]
  },
  {
   "cell_type": "code",
   "execution_count": null,
   "metadata": {
    "_uuid": "a81be40e1192584534061a348601023b504d0f21"
   },
   "outputs": [],
   "source": [
    "import numpy as np\n",
    "import pandas as pd\n",
    "import matplotlib.pyplot as plt\n",
    "import seaborn as sns\n",
    "%matplotlib inline\n"
   ]
  },
  {
   "cell_type": "code",
   "execution_count": null,
   "metadata": {
    "_uuid": "f584b78a4fd3e782606aad7faf1b7770c3a02aba"
   },
   "outputs": [],
   "source": [
    "# This is how we assign the datasets to variables in python using pandas.\n",
    "train=pd.read_csv(\"../input/train.csv\")\n",
    "test=pd.read_csv(\"../input/test.csv\")"
   ]
  },
  {
   "cell_type": "markdown",
   "metadata": {
    "_uuid": "0c504113ffb64990b8a80c582b53e0bc091fa601"
   },
   "source": [
    "# Exploratory Data Analysis"
   ]
  },
  {
   "cell_type": "markdown",
   "metadata": {
    "_uuid": "d80296f4b928153306c3b46be5abb903b19d305c"
   },
   "source": [
    "We will use the .head() function to display the first five columns of the dataset to get a feel of the dataset."
   ]
  },
  {
   "cell_type": "code",
   "execution_count": null,
   "metadata": {
    "_uuid": "84133dca0699bfbf38a5ffdb481029db8315f4b8"
   },
   "outputs": [],
   "source": [
    "train.head()"
   ]
  },
  {
   "cell_type": "markdown",
   "metadata": {
    "_uuid": "198d4b6c31301cafae7863082f172829df4b54c6"
   },
   "source": [
    "From the above displayed data we can see our Target Variable (which we have to predict) has the values. This indicates that it is a binary classification problem. We will also have to convert the categorical variables Embarked and Sex column onto its numerical counterpart so that our ML Algorithm can understand it."
   ]
  },
  {
   "cell_type": "code",
   "execution_count": null,
   "metadata": {
    "_uuid": "beba3769f2aaaf3e8c4a7b6442e71f510b081272"
   },
   "outputs": [],
   "source": [
    "test.head()"
   ]
  },
  {
   "cell_type": "markdown",
   "metadata": {
    "_uuid": "cdb217b4640e769609089cc175f06b30cfab3fde"
   },
   "source": [
    "The test dataset has the same numeber of columns as the train dataset without the Target Variable. "
   ]
  },
  {
   "cell_type": "code",
   "execution_count": null,
   "metadata": {
    "_uuid": "3a0c063d1c4d859ec0775f48ea30534a8b6974a5"
   },
   "outputs": [],
   "source": [
    "#To get the number of rows and columns of the dataset\n",
    "train.shape"
   ]
  },
  {
   "cell_type": "code",
   "execution_count": null,
   "metadata": {
    "_uuid": "e2ad0eac4d38500d8ec028a6439d8018729538e7"
   },
   "outputs": [],
   "source": [
    "test.shape"
   ]
  },
  {
   "cell_type": "code",
   "execution_count": null,
   "metadata": {
    "_uuid": "fd7f5f0c56547c83b685cc77546e08f6628f8d6e"
   },
   "outputs": [],
   "source": [
    "#Gives us statistical information about the dataset\n",
    "train.describe()"
   ]
  },
  {
   "cell_type": "markdown",
   "metadata": {
    "_uuid": "e00233dd815643487720b444f8476460e8d33f7e"
   },
   "source": [
    "\n",
    "From the above data we can tell that the Age column is missing a lot of values. To better understand the number of missing values we run the following code."
   ]
  },
  {
   "cell_type": "code",
   "execution_count": null,
   "metadata": {
    "_uuid": "910571e3d2e8095f727d1c58a3bda5b060a732a6"
   },
   "outputs": [],
   "source": [
    "train.isnull().sum()"
   ]
  },
  {
   "cell_type": "code",
   "execution_count": null,
   "metadata": {
    "_uuid": "b37e10acf7038394f560b003809ea06ae24e31f2"
   },
   "outputs": [],
   "source": [
    "test.isnull().sum()"
   ]
  },
  {
   "cell_type": "markdown",
   "metadata": {
    "_uuid": "bb7a017f5adf39decc8c2f61c3cdff27cc4500b2"
   },
   "source": [
    "To visualise the missing values we can plot it out onto a heatmap."
   ]
  },
  {
   "cell_type": "code",
   "execution_count": null,
   "metadata": {
    "_uuid": "04a6b82c3c4218ba5e458cbee1415150037f9a97"
   },
   "outputs": [],
   "source": [
    "sns.heatmap(train.isnull(),yticklabels=False,cbar=False,cmap='viridis')"
   ]
  },
  {
   "cell_type": "markdown",
   "metadata": {
    "_uuid": "4e1e081768c397986f079ac2bb5a88c4bd43551c"
   },
   "source": [
    "From the above plot we can tell that Cabin has an enormous amount of missing values therefore we can do nothing but drop that column and we will impute the Age column with values derived from a concrete hypotheis in the preprocessing section"
   ]
  },
  {
   "cell_type": "markdown",
   "metadata": {
    "_uuid": "77e01cee3e70d2e68c2a56dcc2379b0ec4d9c6ed"
   },
   "source": [
    "A plot to visualise the Target Distribution."
   ]
  },
  {
   "cell_type": "code",
   "execution_count": null,
   "metadata": {
    "_uuid": "def7262d5f609f991690f15a78a62147f6819910"
   },
   "outputs": [],
   "source": [
    "sns.set_style(\"whitegrid\")\n",
    "sns.countplot(x='Survived',data=train,palette='viridis')"
   ]
  },
  {
   "cell_type": "markdown",
   "metadata": {
    "_uuid": "ba64caac0b7dfbd70e2dbfdbaa26fb90d15deffc"
   },
   "source": [
    "<h3>Passenger Class (Pclass) column</h3>"
   ]
  },
  {
   "cell_type": "markdown",
   "metadata": {
    "_uuid": "ae3d88f7d2e69092a02373509b2fc24382e990d1"
   },
   "source": [
    "Let us look into the Pclass column now which is basically the passenger class"
   ]
  },
  {
   "cell_type": "code",
   "execution_count": null,
   "metadata": {
    "_uuid": "76b865f43e299cdc15099b09017f903ffbc2e5ac"
   },
   "outputs": [],
   "source": [
    "train.Pclass.value_counts()\n"
   ]
  },
  {
   "cell_type": "markdown",
   "metadata": {
    "_uuid": "7c027b03e0941c0aee63ee338467980768857a4b"
   },
   "source": [
    "We can find the number of people who survived in each class by grouping them with 'Pclass' column"
   ]
  },
  {
   "cell_type": "code",
   "execution_count": null,
   "metadata": {
    "_uuid": "b7a866881217c7fb1b980f954556f24daad0e3e4"
   },
   "outputs": [],
   "source": [
    "train.groupby('Pclass').Survived.value_counts()"
   ]
  },
  {
   "cell_type": "markdown",
   "metadata": {
    "_uuid": "d56dc8586634d5c6e4791b3657feb6a085397dd8"
   },
   "source": [
    "The below code shows us the percentage of people who survived in each class. From this data we can come to the conclusion that there is a higher likelihood of people surviving in the higher class compared to the lower class"
   ]
  },
  {
   "cell_type": "code",
   "execution_count": null,
   "metadata": {
    "_uuid": "0c9f6401eca3372a28abceadd22d1d17f68dd371"
   },
   "outputs": [],
   "source": [
    "train[['Pclass', 'Survived']].groupby(['Pclass'], as_index=False).mean()\n"
   ]
  },
  {
   "cell_type": "markdown",
   "metadata": {
    "_uuid": "f5d700561bca34bacef36d8f058bff65ea47193d"
   },
   "source": [
    "The below is a pictorial representation of the above data."
   ]
  },
  {
   "cell_type": "code",
   "execution_count": null,
   "metadata": {
    "_uuid": "fc1e639cde9f460d6a59e944bd8ca245ef94be53"
   },
   "outputs": [],
   "source": [
    "sns.set_style('whitegrid')\n",
    "sns.countplot(x='Survived',hue='Pclass',data=train,palette='rainbow')"
   ]
  },
  {
   "cell_type": "markdown",
   "metadata": {
    "_uuid": "43bcf277ca60f242dcb1ebccb6974a3e75a8f1b4"
   },
   "source": [
    "<h3>Gender Column</h3>"
   ]
  },
  {
   "cell_type": "markdown",
   "metadata": {
    "_uuid": "77be70a41105dd6d1e2d38d0b8a11d6e939b037a"
   },
   "source": [
    "Now let us look into the Gender Column"
   ]
  },
  {
   "cell_type": "code",
   "execution_count": null,
   "metadata": {
    "_uuid": "9d399296296bd45f6307d03e856f15256bff952b"
   },
   "outputs": [],
   "source": [
    "train.Sex.value_counts()\n"
   ]
  },
  {
   "cell_type": "markdown",
   "metadata": {
    "_uuid": "0876d05fc3c734d57a70a74bacfd5da0017a2270"
   },
   "source": [
    "We will perform the same analysis that we have done in passenger class."
   ]
  },
  {
   "cell_type": "code",
   "execution_count": null,
   "metadata": {
    "_uuid": "3d6c143fda3fd36393953de6dd9a9e9fa602b309"
   },
   "outputs": [],
   "source": [
    "train.groupby('Survived').Sex.value_counts()"
   ]
  },
  {
   "cell_type": "markdown",
   "metadata": {
    "_uuid": "f43d3316e140f9723187738bdcfb6399775a3524"
   },
   "source": [
    "From the above data we can come to the conclusion that there is a higher percentage of female passengers who survived."
   ]
  },
  {
   "cell_type": "code",
   "execution_count": null,
   "metadata": {
    "_uuid": "6f60edef1e85ad76c192aaf19ce63a56042c786d"
   },
   "outputs": [],
   "source": [
    "sns.set_style('whitegrid')\n",
    "sns.countplot(x='Survived',hue='Sex',data=train,palette='RdBu_r')"
   ]
  },
  {
   "cell_type": "markdown",
   "metadata": {
    "_uuid": "014894b93dd36e8eb45eb02bf789b3a6169e030b"
   },
   "source": [
    "Now let us see the ratio of males and females for each passenger class."
   ]
  },
  {
   "cell_type": "code",
   "execution_count": null,
   "metadata": {
    "_uuid": "af3c3b4a2379e52969d1b62bb3adc1f26c497e01"
   },
   "outputs": [],
   "source": [
    "tab = pd.crosstab(train['Pclass'], train['Sex'])\n",
    "print (tab)"
   ]
  },
  {
   "cell_type": "markdown",
   "metadata": {
    "_uuid": "8f0a890f146527efd67295d98816c67930fdc785"
   },
   "source": [
    "From the plot below we can tell that the majority of the passegner's age lies between 20 and 40."
   ]
  },
  {
   "cell_type": "code",
   "execution_count": null,
   "metadata": {
    "_uuid": "5339c52fac71d81ae0033b8fc981c5955572e927"
   },
   "outputs": [],
   "source": [
    "sns.distplot(train['Age'].dropna(),kde=False,color='darkred',bins=30)"
   ]
  },
  {
   "cell_type": "markdown",
   "metadata": {
    "_uuid": "4992df17b1526958839746cdb2f74fa3ffd78041"
   },
   "source": [
    "From the below plot we can see that majority of the paasengers didnt have any siblings."
   ]
  },
  {
   "cell_type": "code",
   "execution_count": null,
   "metadata": {
    "_uuid": "252960e20a9f1920374bcf6ee4dcc9e81f94d14b",
    "scrolled": true
   },
   "outputs": [],
   "source": [
    "sns.countplot(x='SibSp',data=train)"
   ]
  },
  {
   "cell_type": "code",
   "execution_count": null,
   "metadata": {
    "_uuid": "7d0bed293a22550db5e80fd104384fdaf7026baa"
   },
   "outputs": [],
   "source": [
    "train['Fare'].hist(color='green',bins=40,figsize=(8,4))"
   ]
  },
  {
   "cell_type": "markdown",
   "metadata": {
    "_uuid": "3961c62072b416795f080f663df4d8940af3a16f"
   },
   "source": [
    "The plot below gives us the insight that the age of the passegners tend to be higher if they are from a higher passenger class. We wil be using this insight to later fill the Age column."
   ]
  },
  {
   "cell_type": "code",
   "execution_count": null,
   "metadata": {
    "_uuid": "0cd4e58581092f9187f94b46760b15929e9175aa"
   },
   "outputs": [],
   "source": [
    "plt.figure(figsize=(12, 7))\n",
    "sns.boxplot(x='Pclass',y='Age',data=train,palette='winter')"
   ]
  },
  {
   "cell_type": "markdown",
   "metadata": {
    "_uuid": "b5040155285e2a2c4e1cba8019e8b286a4a10033"
   },
   "source": [
    "\n",
    "# Data Preprocessing"
   ]
  },
  {
   "cell_type": "code",
   "execution_count": null,
   "metadata": {
    "_uuid": "f3cb9a15b3c2eb744e864ca612cc949c37ede92e"
   },
   "outputs": [],
   "source": [
    "#We are doing this because the test doesn't have the Target column.\n",
    "train2=train.drop('Survived',axis=1)"
   ]
  },
  {
   "cell_type": "code",
   "execution_count": null,
   "metadata": {
    "_uuid": "769b943c5980fdcf513388665b0537a5bde77aa9"
   },
   "outputs": [],
   "source": [
    "#We are combining train and test dataset as it will be easier for us to process the data together.\n",
    "data = train2.append(test,sort=False)"
   ]
  },
  {
   "cell_type": "code",
   "execution_count": null,
   "metadata": {
    "_uuid": "dbf84f1ccad7c80ed378a14ba5b71f9e59bbe590"
   },
   "outputs": [],
   "source": [
    "data.head()"
   ]
  },
  {
   "cell_type": "code",
   "execution_count": null,
   "metadata": {
    "_uuid": "b4a6de6d56bce1f4b1e2c87fe1dcc869601af566"
   },
   "outputs": [],
   "source": [
    "#We drop the PassengerId column as the values from this column wont contribute to our model.\n",
    "data.drop(['PassengerId'],axis=1,inplace=True)"
   ]
  },
  {
   "cell_type": "markdown",
   "metadata": {
    "_uuid": "263a4120a38e3702de2f2a76489834b7b19edbe1"
   },
   "source": [
    "It was found that the Title from the names such as Mr, Miss, Mrs etc do contribute to the prediction. Threfore we create a feature out of it. It is also found that the length of the Name contributes as well."
   ]
  },
  {
   "cell_type": "code",
   "execution_count": null,
   "metadata": {
    "_uuid": "7531bddc08d2d727e4671983a9f47a92db4525a4"
   },
   "outputs": [],
   "source": [
    "data['Title'] =data['Name'].apply(lambda x: x.split(',')[1]).apply(lambda x: x.split()[0])\n",
    "data['Name_Len'] = data['Name'].apply(lambda x: len(x))\n",
    "data.drop(labels='Name', axis=1, inplace=True)"
   ]
  },
  {
   "cell_type": "code",
   "execution_count": null,
   "metadata": {
    "_uuid": "b2e9def764fef8da87400f1029497c5ccdb93282"
   },
   "outputs": [],
   "source": [
    "data.Name_Len = (data.Name_Len/10).astype(np.int64)+1"
   ]
  },
  {
   "cell_type": "code",
   "execution_count": null,
   "metadata": {
    "_uuid": "db1ab455d04c371b4f81ab04f9e5fb9d7ffa6d80"
   },
   "outputs": [],
   "source": [
    "training_age_n = data.Age.dropna(axis=0)"
   ]
  },
  {
   "cell_type": "code",
   "execution_count": null,
   "metadata": {
    "_uuid": "3f18eb919a3b8b478e49c1bb20ccb657bacd9841"
   },
   "outputs": [],
   "source": [
    "fx, axes = plt.subplots(1, 2, figsize=(15,5))\n",
    "axes[0].set_title(\"Age vs frequency\")\n",
    "axes[1].set_title(\"Age vise Survival rate\")\n",
    "fig1_age = sns.distplot(a=training_age_n, bins=15, ax=axes[0], hist_kws={'rwidth':0.7})\n",
    "\n",
    "# Creating a new list of survived and dead\n",
    "\n",
    "pass_survived_age = train[train.Survived == 1].Age\n",
    "pass_dead_age = train[train.Survived == 0].Age\n",
    "\n",
    "axes[1].hist([data.Age, pass_survived_age, pass_dead_age], bins=5, range=(0, 100), label=['Total', 'Survived', 'Dead'])\n",
    "axes[1].legend()\n",
    "plt.show()"
   ]
  },
  {
   "cell_type": "markdown",
   "metadata": {
    "_uuid": "5e65463b122a13859d209f35ede89819de25815d"
   },
   "source": [
    "We fill the Age column with average age values of the passenger class. "
   ]
  },
  {
   "cell_type": "code",
   "execution_count": null,
   "metadata": {
    "_uuid": "5d594bc75607d7d896953b4ec89bb1bc773d4e54"
   },
   "outputs": [],
   "source": [
    "#Null Ages in Training set (177 null values)\n",
    "train_age_mean = data.Age.mean()\n",
    "train_age_std = data.Age.std()\n",
    "train_age_null = data.Age.isnull().sum()\n",
    "rand_tr_age = np.random.randint(train_age_mean - train_age_std, train_age_mean + train_age_std, size=train_age_null)\n",
    "data['Age'][np.isnan(data['Age'])] = rand_tr_age\n",
    "data['Age'] = data['Age'].astype(int) + 1\n",
    "\n",
    "# Null Ages in Test set (86 null values)\n",
    "test_age_mean = data.Age.mean()\n",
    "test_age_std = data.Age.std()\n",
    "test_age_null = data.Age.isnull().sum()\n",
    "rand_ts_age = np.random.randint(test_age_mean - test_age_std, test_age_mean + test_age_std, size=test_age_null)\n",
    "data['Age'][np.isnan(data['Age'])] = rand_ts_age\n",
    "data['Age'] = data['Age'].astype(int)\n",
    "\n",
    "data.Age = (data.Age/15).astype(np.int64) + 1"
   ]
  },
  {
   "cell_type": "markdown",
   "metadata": {
    "_uuid": "43c8495ce53880fc9483e74b667255400088340c"
   },
   "source": [
    "We create a feature known as FamilySize by adding the SibSP and Parch column."
   ]
  },
  {
   "cell_type": "code",
   "execution_count": null,
   "metadata": {
    "_uuid": "f24225d5cf5427019d333e50c26e619099801dbb"
   },
   "outputs": [],
   "source": [
    "data['FamilySize'] = data['SibSp'] + data['Parch'] + 1"
   ]
  },
  {
   "cell_type": "markdown",
   "metadata": {
    "_uuid": "6472f8c9959b801f757c3ad3cc8df31e73a4336a"
   },
   "source": [
    "A feature isAlone is created that checks if the FamilySize is 1 or greater."
   ]
  },
  {
   "cell_type": "code",
   "execution_count": null,
   "metadata": {
    "_uuid": "605161ee7ca1d9344713ca66a00f6ea8b9cc701e"
   },
   "outputs": [],
   "source": [
    "data['isAlone'] =data['FamilySize'].map(lambda x: 1 if x == 1 else 0)"
   ]
  },
  {
   "cell_type": "code",
   "execution_count": null,
   "metadata": {
    "_uuid": "3483b91e61ec355be494dda8b41ccff1fa44d0fc"
   },
   "outputs": [],
   "source": [
    "data.drop(labels=['SibSp', 'Parch'], axis=1, inplace=True)\n",
    "data.head()"
   ]
  },
  {
   "cell_type": "code",
   "execution_count": null,
   "metadata": {
    "_uuid": "e54babeddfd51a19352bddf0271a51de3e483c5b"
   },
   "outputs": [],
   "source": [
    "# We drop the Cabin column as it has too many null values.\n",
    "data.drop(['Cabin'],axis=1,inplace=True)"
   ]
  },
  {
   "cell_type": "code",
   "execution_count": null,
   "metadata": {
    "_uuid": "b50cbf44b9f4aa6e625c5e8c18f811c0dcc6ca0a"
   },
   "outputs": [],
   "source": [
    "The Ticket length also gives us a useful feature that increases our accuracy."
   ]
  },
  {
   "cell_type": "code",
   "execution_count": null,
   "metadata": {
    "_uuid": "9420246564c531da8a6e3a3a3e881ddbef5b539c"
   },
   "outputs": [],
   "source": [
    "data['Ticket_Len'] = data['Ticket'].apply(lambda x: len(x))"
   ]
  },
  {
   "cell_type": "code",
   "execution_count": null,
   "metadata": {
    "_uuid": "ad16e337032ef9b6b35ad1e761cdd406486e9f0f"
   },
   "outputs": [],
   "source": [
    "data.drop(labels='Ticket', axis=1, inplace=True)"
   ]
  },
  {
   "cell_type": "markdown",
   "metadata": {
    "_uuid": "23a795887ab2ff4f99563bf704fe2430a7aa62bd"
   },
   "source": [
    "The empty values in the Fare column is filled with the mean of the Fare column."
   ]
  },
  {
   "cell_type": "code",
   "execution_count": null,
   "metadata": {
    "_uuid": "45b1085a1c8495a659ecd5455c3e89030e0ba171"
   },
   "outputs": [],
   "source": [
    "data['Fare'][np.isnan(data['Fare'])] = data.Fare.mean()"
   ]
  },
  {
   "cell_type": "code",
   "execution_count": null,
   "metadata": {
    "_uuid": "4aba658704c98fdb51d1506bcf4cd41d44efc092"
   },
   "outputs": [],
   "source": [
    "data.Fare = (data.Fare /20).astype(np.int64) + 1"
   ]
  },
  {
   "cell_type": "code",
   "execution_count": null,
   "metadata": {
    "_uuid": "8c961337d5a7806cd7bde2101a5277dc8c707a78"
   },
   "outputs": [],
   "source": [
    "data['Embarked'].isnull().sum()"
   ]
  },
  {
   "cell_type": "markdown",
   "metadata": {
    "_uuid": "421dbfd4256570b882d34af2f75d87fd9eb5f4e1"
   },
   "source": [
    "The empty values in the Embarked column is filled with S."
   ]
  },
  {
   "cell_type": "code",
   "execution_count": null,
   "metadata": {
    "_uuid": "5809fcddc469d480c9783ed926e295369e57519f"
   },
   "outputs": [],
   "source": [
    "data['Embarked'] = data['Embarked'].fillna('S')"
   ]
  },
  {
   "cell_type": "code",
   "execution_count": null,
   "metadata": {
    "_uuid": "e9932930fafc269f328fdec2fce801d1ade8a795",
    "scrolled": true
   },
   "outputs": [],
   "source": [
    "data.head()"
   ]
  },
  {
   "cell_type": "markdown",
   "metadata": {
    "_uuid": "f94a794eca9c94cc4626b5998108be6d7fa3d88c"
   },
   "source": [
    "We will convert the categorical values into its binary equivalent."
   ]
  },
  {
   "cell_type": "code",
   "execution_count": null,
   "metadata": {
    "_uuid": "bef7c5b9d8cdb7733030f310998ba8ad1cb0e324"
   },
   "outputs": [],
   "source": [
    "from sklearn.preprocessing import LabelEncoder"
   ]
  },
  {
   "cell_type": "code",
   "execution_count": null,
   "metadata": {
    "_uuid": "afcfd92002ff016e5402d4461baff11ad8723f26"
   },
   "outputs": [],
   "source": [
    "lr=LabelEncoder()"
   ]
  },
  {
   "cell_type": "code",
   "execution_count": null,
   "metadata": {
    "_uuid": "d2558f7351761bb829bc55c39d876f2bd3467043"
   },
   "outputs": [],
   "source": [
    "data['Sex'] = lr.fit_transform(data['Sex'])\n",
    "data['Embarked']=lr.fit_transform(data['Embarked'])\n",
    "data['Title']=lr.fit_transform(data['Title'])"
   ]
  },
  {
   "cell_type": "code",
   "execution_count": null,
   "metadata": {
    "_uuid": "97946c15db34f33c83595220a031fa6504a1cf31"
   },
   "outputs": [],
   "source": [
    "train.shape"
   ]
  },
  {
   "cell_type": "markdown",
   "metadata": {
    "_uuid": "30a778fa2850e1b86c61f550c0a2d457c0fec4e5"
   },
   "source": [
    "Now we don't have any null values present in the datset."
   ]
  },
  {
   "cell_type": "code",
   "execution_count": null,
   "metadata": {
    "_uuid": "6136fc2a2daa1cd10ea7b8abc3e4d55c140cfada"
   },
   "outputs": [],
   "source": [
    "sns.heatmap(data.isnull(),yticklabels=False,cbar=False,cmap='viridis')"
   ]
  },
  {
   "cell_type": "code",
   "execution_count": null,
   "metadata": {
    "_uuid": "3cb5787e0cc53dcbd9d45d6b1c3f370c5f9f8513"
   },
   "outputs": [],
   "source": [
    "data.head()"
   ]
  },
  {
   "cell_type": "code",
   "execution_count": null,
   "metadata": {
    "_uuid": "b546bbbc3f28fee7ca1074e89a893e4586b3ba2f"
   },
   "outputs": [],
   "source": [
    "#Splitting the data back\n",
    "train2=data.iloc[0:891,:]\n",
    "test2=data.iloc[891:1310,:]"
   ]
  },
  {
   "cell_type": "code",
   "execution_count": null,
   "metadata": {
    "_uuid": "e71ab0d83c420412566f8d353156179242389298"
   },
   "outputs": [],
   "source": [
    "train2.shape"
   ]
  },
  {
   "cell_type": "code",
   "execution_count": null,
   "metadata": {
    "_uuid": "1904b62c39a3feef20602af2bf1230f0d207d9b7"
   },
   "outputs": [],
   "source": [
    "#Splitting the dataset back into the train and test.\n",
    "X=train2\n",
    "y=train['Survived']"
   ]
  },
  {
   "cell_type": "markdown",
   "metadata": {
    "_uuid": "3764855a6fd2dfc1c1282cb6920dc8c1cade6a46"
   },
   "source": [
    "# Modeling \n",
    "Modeling is by far the easiest part in the ML Workflow. All we have to do is import the library then fit the model and predict our values.\n",
    "<h3>1. Logistic Regression</h3>"
   ]
  },
  {
   "cell_type": "code",
   "execution_count": null,
   "metadata": {
    "_uuid": "853a2b86d480ccc52979d03f64feb0b576db61d9"
   },
   "outputs": [],
   "source": [
    "from sklearn.linear_model import LogisticRegression"
   ]
  },
  {
   "cell_type": "code",
   "execution_count": null,
   "metadata": {
    "_uuid": "122a2ae2c7e56e0863b49513748cf369b8fe1526"
   },
   "outputs": [],
   "source": [
    "logmodel = LogisticRegression()\n",
    "logmodel.fit(X,y)"
   ]
  },
  {
   "cell_type": "code",
   "execution_count": null,
   "metadata": {
    "_uuid": "37ebd96341d4919088dabc60e688108d702792be",
    "scrolled": false
   },
   "outputs": [],
   "source": [
    "predictions_log = logmodel.predict(test2)"
   ]
  },
  {
   "cell_type": "markdown",
   "metadata": {
    "_uuid": "17d18d2d5445fcaa72ecc7d63189f1bdd4aed784",
    "collapsed": true
   },
   "source": [
    "<h3>2. Random Forest</h3>"
   ]
  },
  {
   "cell_type": "code",
   "execution_count": null,
   "metadata": {
    "_uuid": "2a70b0e75d801827721242eba1b2a07a7d75255d"
   },
   "outputs": [],
   "source": [
    "from sklearn.ensemble import RandomForestClassifier"
   ]
  },
  {
   "cell_type": "code",
   "execution_count": null,
   "metadata": {
    "_uuid": "e486ec92cea435dea60447b79e5e579312699d80"
   },
   "outputs": [],
   "source": [
    "# n_estimators refers to the number of tress.\n",
    "rfc=RandomForestClassifier(n_estimators=250)\n",
    "rfc.fit(X,y)"
   ]
  },
  {
   "cell_type": "code",
   "execution_count": null,
   "metadata": {
    "_uuid": "09b815ee9bfed9b94d8dfa70526adf861cf6621c"
   },
   "outputs": [],
   "source": [
    "predictions_rfc=rfc.predict(test2)"
   ]
  },
  {
   "cell_type": "markdown",
   "metadata": {
    "_uuid": "e5752ea49997c56bedf37fe2f248cd2a817cb1ca"
   },
   "source": [
    "<h1>Submission</h1>"
   ]
  },
  {
   "cell_type": "code",
   "execution_count": null,
   "metadata": {
    "_uuid": "9b17248ad46361c3b41a1abd19ffae7b3efd2caa"
   },
   "outputs": [],
   "source": [
    "predictions_log.shape"
   ]
  },
  {
   "cell_type": "markdown",
   "metadata": {
    "_uuid": "7d5939f70225c7e8783071563985b92116e25e3d"
   },
   "source": [
    "<h2>Logistric Regression </h2>"
   ]
  },
  {
   "cell_type": "code",
   "execution_count": null,
   "metadata": {
    "_uuid": "456ae5b10b7dd597dd5142f95ca3ebec9f6ea435"
   },
   "outputs": [],
   "source": [
    "#my_submission = pd.DataFrame({'PassengerId': test.PassengerId, 'Survived': predictions_log})\n",
    "#my_submission.to_csv('submission.csv', index=False)"
   ]
  },
  {
   "cell_type": "markdown",
   "metadata": {
    "_uuid": "42c41f80e82ea18949498d159dfcd4fe5c2420df"
   },
   "source": [
    "<font size=\"4\">Gives us a score of 0.76555</font>"
   ]
  },
  {
   "cell_type": "markdown",
   "metadata": {
    "_uuid": "97be696f66e9957ce415dfd6255d9007d362073b"
   },
   "source": [
    "<h2>Random Forest </h2>"
   ]
  },
  {
   "cell_type": "code",
   "execution_count": null,
   "metadata": {
    "_uuid": "8130f94de248332a03c04bfd531fd21d70584678"
   },
   "outputs": [],
   "source": [
    "my_submission = pd.DataFrame({'PassengerId': test.PassengerId, 'Survived': predictions_rfc})\n",
    "my_submission.to_csv('submission.csv', index=False)"
   ]
  },
  {
   "cell_type": "markdown",
   "metadata": {
    "_uuid": "a7f98a3eb25562cb7fcf462d4609b34a9b5f74dc"
   },
   "source": [
    "<font size=\"4\">This also gave us a score of 0.76555</font>"
   ]
  }
 ],
 "metadata": {
  "kernelspec": {
   "display_name": "Python 3",
   "language": "python",
   "name": "python3"
  },
  "language_info": {
   "codemirror_mode": {
    "name": "ipython",
    "version": 3
   },
   "file_extension": ".py",
   "mimetype": "text/x-python",
   "name": "python",
   "nbconvert_exporter": "python",
   "pygments_lexer": "ipython3",
   "version": "3.6.6"
  },
  "varInspector": {
   "cols": {
    "lenName": 16,
    "lenType": 16,
    "lenVar": 40
   },
   "kernels_config": {
    "python": {
     "delete_cmd_postfix": "",
     "delete_cmd_prefix": "del ",
     "library": "var_list.py",
     "varRefreshCmd": "print(var_dic_list())"
    },
    "r": {
     "delete_cmd_postfix": ") ",
     "delete_cmd_prefix": "rm(",
     "library": "var_list.r",
     "varRefreshCmd": "cat(var_dic_list()) "
    }
   },
   "types_to_exclude": [
    "module",
    "function",
    "builtin_function_or_method",
    "instance",
    "_Feature"
   ],
   "window_display": false
  }
 },
 "nbformat": 4,
 "nbformat_minor": 1
}
